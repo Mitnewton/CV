{
  "nbformat": 4,
  "nbformat_minor": 0,
  "metadata": {
    "colab": {
      "name": "Breast_Cancer_Prediction.ipynb",
      "provenance": [],
      "toc_visible": true,
      "authorship_tag": "ABX9TyOmNBriAeDLezC5vMnjuN7t",
      "include_colab_link": true
    },
    "kernelspec": {
      "name": "python3",
      "display_name": "Python 3"
    }
  },
  "cells": [
    {
      "cell_type": "markdown",
      "metadata": {
        "id": "view-in-github",
        "colab_type": "text"
      },
      "source": [
        "<a href=\"https://colab.research.google.com/github/Mitnewton/CV/blob/master/Breast_Cancer_Prediction.ipynb\" target=\"_parent\"><img src=\"https://colab.research.google.com/assets/colab-badge.svg\" alt=\"Open In Colab\"/></a>"
      ]
    },
    {
      "cell_type": "markdown",
      "metadata": {
        "id": "atHw2xjve6Ao",
        "colab_type": "text"
      },
      "source": [
        "# Breast_Cancer_Prediction\n"
      ]
    },
    {
      "cell_type": "markdown",
      "metadata": {
        "id": "zBgN41PmeSiB",
        "colab_type": "text"
      },
      "source": [
        "Importing the libraries"
      ]
    },
    {
      "cell_type": "code",
      "metadata": {
        "id": "Ui1LPu1AdQr-",
        "colab_type": "code",
        "colab": {}
      },
      "source": [
        "import pandas as pd\n",
        "import numpy as np\n",
        "import matplotlib.pyplot as plt"
      ],
      "execution_count": 0,
      "outputs": []
    },
    {
      "cell_type": "markdown",
      "metadata": {
        "id": "sCLpx7AzfQer",
        "colab_type": "text"
      },
      "source": [
        "Importing the dataset"
      ]
    },
    {
      "cell_type": "code",
      "metadata": {
        "id": "pi-HRsAYfW23",
        "colab_type": "code",
        "colab": {}
      },
      "source": [
        "dataset = pd.read_csv(\"breast_cancer.csv\")\n",
        "X = dataset.iloc[: , 1:-1].values\n",
        "y = dataset.iloc[: , -1].values"
      ],
      "execution_count": 0,
      "outputs": []
    },
    {
      "cell_type": "markdown",
      "metadata": {
        "id": "5DDtKtBomNgK",
        "colab_type": "text"
      },
      "source": [
        "Splitting the dataset into train set & test set"
      ]
    },
    {
      "cell_type": "code",
      "metadata": {
        "id": "RqUTIljKmXWO",
        "colab_type": "code",
        "colab": {}
      },
      "source": [
        "from sklearn.model_selection import train_test_split\n",
        "X_train , X_test , y_train , y_test = train_test_split(X , y, test_size=0.20 , random_state = 0)"
      ],
      "execution_count": 0,
      "outputs": []
    },
    {
      "cell_type": "markdown",
      "metadata": {
        "id": "RA5tTU8AnpBT",
        "colab_type": "text"
      },
      "source": [
        "Training the Logistic Regression Model on Training set"
      ]
    },
    {
      "cell_type": "code",
      "metadata": {
        "id": "Qm1c1qiYn8E1",
        "colab_type": "code",
        "outputId": "bb99bb67-dc7c-4aaa-d011-daaf2e3180d9",
        "colab": {
          "base_uri": "https://localhost:8080/",
          "height": 101
        }
      },
      "source": [
        "from sklearn.linear_model import LogisticRegression\n",
        "classifier = LogisticRegression(random_state=0)\n",
        "classifier.fit(X_train , y_train)"
      ],
      "execution_count": 0,
      "outputs": [
        {
          "output_type": "execute_result",
          "data": {
            "text/plain": [
              "LogisticRegression(C=1.0, class_weight=None, dual=False, fit_intercept=True,\n",
              "                   intercept_scaling=1, l1_ratio=None, max_iter=100,\n",
              "                   multi_class='auto', n_jobs=None, penalty='l2',\n",
              "                   random_state=0, solver='lbfgs', tol=0.0001, verbose=0,\n",
              "                   warm_start=False)"
            ]
          },
          "metadata": {
            "tags": []
          },
          "execution_count": 9
        }
      ]
    },
    {
      "cell_type": "markdown",
      "metadata": {
        "id": "ZO-J_kW5rybP",
        "colab_type": "text"
      },
      "source": [
        "Predicting the test set results"
      ]
    },
    {
      "cell_type": "code",
      "metadata": {
        "id": "px2M8OSrr4LD",
        "colab_type": "code",
        "colab": {}
      },
      "source": [
        "y_pred = classifier.predict(X_test)"
      ],
      "execution_count": 0,
      "outputs": []
    },
    {
      "cell_type": "markdown",
      "metadata": {
        "id": "WIfbn4lJtYMk",
        "colab_type": "text"
      },
      "source": [
        "Making the Confusion Matrix"
      ]
    },
    {
      "cell_type": "code",
      "metadata": {
        "id": "1O8uK7zgtfOH",
        "colab_type": "code",
        "outputId": "c894fd8d-701e-4ac1-beb5-27e54f7f1c87",
        "colab": {
          "base_uri": "https://localhost:8080/",
          "height": 50
        }
      },
      "source": [
        "from sklearn.metrics import confusion_matrix\n",
        "confusion_matrix(y_test , y_pred)\n"
      ],
      "execution_count": 0,
      "outputs": [
        {
          "output_type": "execute_result",
          "data": {
            "text/plain": [
              "array([[84,  3],\n",
              "       [ 3, 47]])"
            ]
          },
          "metadata": {
            "tags": []
          },
          "execution_count": 15
        }
      ]
    },
    {
      "cell_type": "markdown",
      "metadata": {
        "id": "OY15O3NnvufC",
        "colab_type": "text"
      },
      "source": [
        "Accuracy Score"
      ]
    },
    {
      "cell_type": "code",
      "metadata": {
        "id": "uB5djEJTvsOj",
        "colab_type": "code",
        "outputId": "a8cc0adc-2977-4cf6-d297-6ffa5fced3db",
        "colab": {
          "base_uri": "https://localhost:8080/",
          "height": 34
        }
      },
      "source": [
        "from sklearn.metrics import accuracy_score\n",
        "accuracy_score(y_test ,y_pred)"
      ],
      "execution_count": 0,
      "outputs": [
        {
          "output_type": "execute_result",
          "data": {
            "text/plain": [
              "0.9562043795620438"
            ]
          },
          "metadata": {
            "tags": []
          },
          "execution_count": 16
        }
      ]
    },
    {
      "cell_type": "markdown",
      "metadata": {
        "id": "TOOJC0evwCR1",
        "colab_type": "text"
      },
      "source": [
        "Computing the Accuracy with k-Fold Cross Validation"
      ]
    },
    {
      "cell_type": "code",
      "metadata": {
        "id": "79D5JPGhwjTv",
        "colab_type": "code",
        "outputId": "a5ba8f70-f43e-46af-a8c9-17bc1365189c",
        "colab": {
          "base_uri": "https://localhost:8080/",
          "height": 50
        }
      },
      "source": [
        "from sklearn.model_selection import cross_val_score\n",
        "accuracies = cross_val_score(estimator=classifier , X = X_train , y = y_train , cv=10)\n",
        "print(\"Accuracies: {:.2f} %\".format(accuracies.mean()*100))\n",
        "print(\"Standard deviation: {:.2f} %\".format(accuracies.std()*100))"
      ],
      "execution_count": 0,
      "outputs": [
        {
          "output_type": "stream",
          "text": [
            "Accuracies: 96.70 %\n",
            "Standard deviation: 1.97 %\n"
          ],
          "name": "stdout"
        }
      ]
    }
  ]
}